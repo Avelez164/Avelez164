{
  "cells": [
    {
      "cell_type": "markdown",
      "metadata": {
        "id": "qY1uOfzNVu0y"
      },
      "source": [
        "# CPSC 375 Classwork - Introduction to Python\n",
        "\n",
        "[![Open In Colab](https://colab.research.google.com/assets/colab-badge.svg)](https://colab.research.google.com/github/ProfAvery/cpsc375-classwork/blob/main/python.ipynb)\n",
        "\n",
        "- *Manager*:\n",
        "- *Recorder*:\n",
        "- *Presenter*:\n",
        "- *Timekeeper*:"
      ]
    },
    {
      "cell_type": "markdown",
      "metadata": {
        "id": "kKXODQx6Vu05"
      },
      "source": [
        "## Part 1 - Slides 21-23"
      ]
    },
    {
      "cell_type": "markdown",
      "metadata": {
        "id": "XNEzLi2IVu07"
      },
      "source": [
        "Calculate the mean of values: 1, 2, 5"
      ]
    },
    {
      "cell_type": "code",
      "execution_count": null,
      "metadata": {
        "id": "zxjyqqqXVu08"
      },
      "outputs": [],
      "source": []
    },
    {
      "cell_type": "markdown",
      "metadata": {
        "id": "yetUjvSuVu0-"
      },
      "source": [
        "Calculate the magnitude of vector (1, 2, 5)\n",
        "\n",
        "Magnitude = $\\sqrt{1^2 + 2^2 + 5^2}$"
      ]
    },
    {
      "cell_type": "code",
      "execution_count": null,
      "metadata": {
        "id": "Eqw_U3qNVu0_"
      },
      "outputs": [],
      "source": []
    },
    {
      "cell_type": "markdown",
      "metadata": {
        "id": "aFK-f4d7Vu0_"
      },
      "source": [
        "Normalize the vector\n",
        "\n",
        "*Divide each component by the magnitude (and save to a new variable)*"
      ]
    },
    {
      "cell_type": "code",
      "execution_count": null,
      "metadata": {
        "id": "LQx19EVyVu1A"
      },
      "outputs": [],
      "source": []
    },
    {
      "cell_type": "markdown",
      "metadata": {
        "id": "SQhVSKT0Vu1B"
      },
      "source": [
        "Calculate the magnitude of the normalized vector"
      ]
    },
    {
      "cell_type": "code",
      "execution_count": null,
      "metadata": {
        "id": "NgndYF9IVu1B"
      },
      "outputs": [],
      "source": []
    },
    {
      "cell_type": "markdown",
      "metadata": {
        "id": "lQkQwQF_Vu1C"
      },
      "source": [
        "\n",
        "Calculate the mean of 1st 100 numbers: 1, 2, …, 100"
      ]
    },
    {
      "cell_type": "code",
      "execution_count": null,
      "metadata": {
        "id": "ndj9rR3mVu1D"
      },
      "outputs": [],
      "source": []
    },
    {
      "cell_type": "markdown",
      "metadata": {
        "id": "0YZ4lpMwVu1D"
      },
      "source": [
        "## Part 2 - Slide 33"
      ]
    },
    {
      "cell_type": "code",
      "execution_count": null,
      "metadata": {
        "id": "nhBfJNX7Vu1D"
      },
      "outputs": [],
      "source": [
        "import statsmodels.api as sm\n",
        "\n",
        "iris_dataset = sm.datasets.get_rdataset(\"iris\")\n",
        "iris = iris_dataset.data\n",
        "iris.Species = iris.Species.astype(\"category\")"
      ]
    },
    {
      "cell_type": "markdown",
      "metadata": {
        "id": "WXpIxxLPVu1F"
      },
      "source": [
        "Show all rows where Species is \"setosa\""
      ]
    },
    {
      "cell_type": "code",
      "execution_count": null,
      "metadata": {
        "id": "GjYmoqdGVu1G"
      },
      "outputs": [],
      "source": []
    },
    {
      "cell_type": "markdown",
      "metadata": {
        "id": "WFv56xwFVu1G"
      },
      "source": [
        "Show all rows where Sepal.Length > 3.0 and Species is \"setosa\""
      ]
    },
    {
      "cell_type": "code",
      "execution_count": null,
      "metadata": {
        "id": "QXQmEBVHVu1G"
      },
      "outputs": [],
      "source": []
    },
    {
      "cell_type": "markdown",
      "metadata": {
        "id": "WCMiGERbVu1H"
      },
      "source": [
        "What is the largest value of Sepal.Length?"
      ]
    },
    {
      "cell_type": "code",
      "execution_count": null,
      "metadata": {
        "id": "tttHWWw6Vu1H"
      },
      "outputs": [],
      "source": []
    },
    {
      "cell_type": "markdown",
      "metadata": {
        "id": "ePNyXINQVu1H"
      },
      "source": [
        "Which row contains this value?"
      ]
    },
    {
      "cell_type": "code",
      "execution_count": null,
      "metadata": {
        "id": "HgA3Y9kxVu1H"
      },
      "outputs": [],
      "source": []
    },
    {
      "cell_type": "markdown",
      "metadata": {
        "id": "ZMWAg7loVu1I"
      },
      "source": [
        "What Species corresponds to this largest Sepal.Length?"
      ]
    },
    {
      "cell_type": "code",
      "execution_count": null,
      "metadata": {
        "id": "FTtFEI1-Vu1I"
      },
      "outputs": [],
      "source": []
    },
    {
      "cell_type": "markdown",
      "metadata": {
        "id": "w5xemP1FVu1I"
      },
      "source": [
        "## Part 3 - Slide 37"
      ]
    },
    {
      "cell_type": "code",
      "execution_count": null,
      "metadata": {
        "id": "Q6g90ZgcVu1I"
      },
      "outputs": [],
      "source": [
        "airquality_dataset = sm.datasets.get_rdataset(\"airquality\")\n",
        "airquality = airquality_dataset.data"
      ]
    },
    {
      "cell_type": "markdown",
      "metadata": {
        "id": "8RzKYwlvVu1J"
      },
      "source": [
        "Consider the data airquality\n",
        "\n",
        "- How many rows, columns, what are the variable names?"
      ]
    },
    {
      "cell_type": "code",
      "execution_count": null,
      "metadata": {
        "id": "IztiUPx8Vu1J"
      },
      "outputs": [],
      "source": []
    },
    {
      "cell_type": "markdown",
      "metadata": {
        "id": "KepznhdCVu1J"
      },
      "source": [
        "Are there any NAs in column Ozone?\n",
        "- How many NAs in column Ozone?\n",
        "- Which rows have NAs in column Ozone?"
      ]
    },
    {
      "cell_type": "code",
      "execution_count": null,
      "metadata": {
        "id": "JApPAMh4Vu1J"
      },
      "outputs": [],
      "source": []
    },
    {
      "cell_type": "markdown",
      "metadata": {
        "id": "gXSlZEo3Vu1J"
      },
      "source": [
        "What is the mean of the Ozone variable?"
      ]
    },
    {
      "cell_type": "code",
      "execution_count": null,
      "metadata": {
        "id": "iVu6MV49Vu1K"
      },
      "outputs": [],
      "source": []
    }
  ],
  "metadata": {
    "kernelspec": {
      "display_name": "cpsc375-python",
      "language": "python",
      "name": "python3"
    },
    "language_info": {
      "codemirror_mode": {
        "name": "ipython",
        "version": 3
      },
      "file_extension": ".py",
      "mimetype": "text/x-python",
      "name": "python",
      "nbconvert_exporter": "python",
      "pygments_lexer": "ipython3",
      "version": "3.11.7"
    },
    "colab": {
      "provenance": []
    }
  },
  "nbformat": 4,
  "nbformat_minor": 0
}